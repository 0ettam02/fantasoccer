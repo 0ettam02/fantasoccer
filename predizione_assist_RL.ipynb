{
 "cells": [
  {
   "cell_type": "code",
   "execution_count": 6,
   "metadata": {},
   "outputs": [
    {
     "data": {
      "image/png": "[encoded data removed]",
      "text/plain": [
       "<Figure size 640x480 with 1 Axes>"
      ]
     },
     "metadata": {},
     "output_type": "display_data"
    },
    {
     "name": "stdout",
     "output_type": "stream",
     "text": [
      "Correlazione tra Gf e Ass: 0.5551357811731772\n",
      "Mean Squared Error: 2.132663273976374\n",
      "Giocatore 'dybala' non trovato, usando giocatore simile: Dybala\n",
      "dybala potrebbe fare 3.84 assist\n"
     ]
    }
   ],
   "source": [
    "import pandas as pd\n",
    "from sklearn.model_selection import train_test_split\n",
    "from sklearn.preprocessing import StandardScaler\n",
    "from sklearn.linear_model import LinearRegression\n",
    "from sklearn.metrics import mean_squared_error\n",
    "import matplotlib.pyplot as plt\n",
    "from fuzzywuzzy import fuzz\n",
    "\n",
    "# Caricamento dei dati\n",
    "dataset1 = pd.read_csv(\"datasets/datasetGol.csv\", sep=\";\")\n",
    "dataset2 = pd.read_csv(\"datasets/Statistiche_Fantacalcio_Stagione_2024_25.csv\", sep=\";\")\n",
    "\n",
    "dataset1[\"Mv\"] = dataset1[\"Mv\"].str.replace(\",\", \".\").astype(float)\n",
    "dataset1[\"Fm\"] = dataset1[\"Fm\"].str.replace(\",\", \".\").astype(float)\n",
    "dataset2[\"Mv\"] = dataset2[\"Mv\"].str.replace(\",\", \".\").astype(float)\n",
    "dataset2[\"Fm\"] = dataset2[\"Fm\"].str.replace(\",\", \".\").astype(float)\n",
    "\n",
    "# Distribuzione di un dato specifico\n",
    "plt.hist(dataset1['Gf'])\n",
    "plt.show()\n",
    "\n",
    "# Correlazione tra variabili\n",
    "correlation = dataset1['Gf'].corr(dataset1['Ass'])\n",
    "print(\"Correlazione tra Gf e Ass:\", correlation)\n",
    "\n",
    "# Definizione variabili\n",
    "X = dataset1[[\"Gf\", \"Mv\", \"Fm\", \"Rc\"]]\n",
    "y = dataset1['Ass']\n",
    "\n",
    "X_train, X_test, y_train, y_test = train_test_split(X, y, test_size=0.3, random_state=42)\n",
    "\n",
    "# Standardizzazione delle variabili\n",
    "ss = StandardScaler()\n",
    "X_train = ss.fit_transform(X_train)\n",
    "X_test = ss.transform(X_test)\n",
    "\n",
    "# Modello di regressione lineare\n",
    "model = LinearRegression()\n",
    "model.fit(X_train, y_train)\n",
    "\n",
    "# Predizione e valutazione del modello\n",
    "y_pred = model.predict(X_test)\n",
    "mse = mean_squared_error(y_test, y_pred)\n",
    "print(\"Mean Squared Error:\", mse)\n",
    "\n",
    "# Funzione per la previsione degli assist\n",
    "def predict_assist(player_data):\n",
    "    if player_data.empty:\n",
    "        print(\"No player data found.\")\n",
    "        return None  \n",
    "\n",
    "    player_data_normalized = ss.transform(player_data[[\"Gf\", \"Mv\", \"Fm\", \"Rc\"]])\n",
    "    predicted_assist = model.predict(player_data_normalized).mean()\n",
    "    return predicted_assist\n",
    "\n",
    "# Funzione per trovare un giocatore simile\n",
    "def find_similar_player(player_name):\n",
    "    highest_score = -float('inf')\n",
    "    most_similar_player = None\n",
    "    for name in dataset2['Nome'].values:\n",
    "        score = fuzz.ratio(player_name.lower(), name.lower()) \n",
    "        if score > highest_score:\n",
    "            highest_score = score\n",
    "            most_similar_player = dataset2[dataset2['Nome'] == name]\n",
    "    return most_similar_player\n",
    "\n",
    "# Input utente\n",
    "giocatore = str(input(\"Inserisci il nome del giocatore: \"))\n",
    "\n",
    "# Ricerca del giocatore e previsione\n",
    "player_data = dataset1[dataset1['Nome'] == giocatore]\n",
    "while player_data.empty:\n",
    "    similar_player = find_similar_player(giocatore)\n",
    "    if similar_player is not None:\n",
    "        player_data = dataset1[dataset1['Nome'] == similar_player['Nome'].values[0]]\n",
    "        print(f\"Giocatore '{giocatore}' non trovato, usando giocatore simile: {similar_player['Nome'].values[0]}\")\n",
    "    else:\n",
    "        print(f\"Il giocatore {giocatore} non è stato trovato\")\n",
    "        break  \n",
    "\n",
    "# Calcolo degli assist previsti\n",
    "predicted_assist = predict_assist(player_data)\n",
    "if predicted_assist is not None:\n",
    "    print(f\"{giocatore} potrebbe fare {predicted_assist:.2f} assist\")\n",
    "else:\n",
    "    print(\"Impossibile calcolare gli assist per il giocatore indicato.\")\n"
   ]
  }
 ],
 "metadata": {
  "kernelspec": {
   "display_name": "Python 3",
   "language": "python",
   "name": "python3"
  },
  "language_info": {
   "codemirror_mode": {
    "name": "ipython",
    "version": 3
   },
   "file_extension": ".py",
   "mimetype": "text/x-python",
   "name": "python",
   "nbconvert_exporter": "python",
   "pygments_lexer": "ipython3",
   "version": "3.11.4"
  }
 },
 "nbformat": 4,
 "nbformat_minor": 2
}
