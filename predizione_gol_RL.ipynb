{
 "cells": [
  {
   "cell_type": "code",
   "execution_count": 15,
   "metadata": {},
   "outputs": [
    {
     "name": "stdout",
     "output_type": "stream",
     "text": [
      "Predicted average goals for Dybala: 10.32\n"
     ]
    }
   ],
   "source": [
    "import pandas as pd\n",
    "from sklearn.model_selection import train_test_split\n",
    "from sklearn.preprocessing import StandardScaler\n",
    "from sklearn.linear_model import LinearRegression\n",
    "from sklearn.metrics import mean_squared_error\n",
    "\n",
    "dataset1 = pd.read_csv(\"datasetGol.csv\", sep=\";\")\n",
    "dataset2 = pd.read_csv(\"Statistiche_Fantacalcio_Stagione_2024_25.csv\", sep=\";\")\n",
    "\n",
    "dataset1[\"Mv\"] = dataset1[\"Mv\"].str.replace(\",\", \".\").astype(float)\n",
    "dataset1[\"Fm\"] = dataset1[\"Fm\"].str.replace(\",\", \".\").astype(float)\n",
    "dataset2[\"Mv\"] = dataset2[\"Mv\"].str.replace(\",\", \".\").astype(float)\n",
    "dataset2[\"Fm\"] = dataset2[\"Fm\"].str.replace(\",\", \".\").astype(float)\n",
    "\n",
    "X = dataset1[[\"Ass\", \"Mv\", \"Fm\", \"Rc\"]]\n",
    "y = dataset1['Gf']\n",
    "\n",
    "X_train, X_test, y_train, y_test = train_test_split(X, y, test_size=0.3, random_state=1)\n",
    "\n",
    "ss = StandardScaler()\n",
    "X_train = ss.fit_transform(X_train)\n",
    "X_test = ss.transform(X_test)\n",
    "\n",
    "model = LinearRegression()\n",
    "\n",
    "model.fit(X_train, y_train)\n",
    "\n",
    "def predict_goal(player_data):\n",
    "    if player_data.empty:\n",
    "        print(\"No player data found.\")\n",
    "        return None  \n",
    "\n",
    "    player_data_normalized = ss.transform(player_data[[\"Ass\", \"Mv\", \"Fm\", \"Rc\"]])\n",
    "    predicted_goal = model.predict(player_data_normalized).mean()\n",
    "    return predicted_goal\n",
    "\n",
    "giocatore = str(input(\"inserisci il nome del giocatore \"))\n",
    "\n",
    "if giocatore in dataset2['Nome'].values:\n",
    "    giocatore_data = dataset1[dataset1['Nome'] == giocatore]\n",
    "    predicted_goal = predict_goal(giocatore_data.copy())  \n",
    "    if predicted_goal is not None:\n",
    "        print(f\"{giocatore} potrebbe fare {predicted_goal:.2f}\") \n",
    "else:\n",
    "    print(f\"Il giocatore {giocatore} non è stato trovato\")\n",
    "\n",
    "\n"
   ]
  }
 ],
 "metadata": {
  "kernelspec": {
   "display_name": "Python 3",
   "language": "python",
   "name": "python3"
  },
  "language_info": {
   "codemirror_mode": {
    "name": "ipython",
    "version": 3
   },
   "file_extension": ".py",
   "mimetype": "text/x-python",
   "name": "python",
   "nbconvert_exporter": "python",
   "pygments_lexer": "ipython3",
   "version": "3.11.4"
  }
 },
 "nbformat": 4,
 "nbformat_minor": 2
}
